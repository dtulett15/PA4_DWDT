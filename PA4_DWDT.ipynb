{
 "cells": [
  {
   "cell_type": "markdown",
   "metadata": {},
   "source": [
    "# Programming Assignment 4\n",
    "---\n",
    "**Author:** Dylan Tulett  \n",
    "**Version:** 1.0  \n",
    "**Semester:** Fall 2020  \n",
    "\n",
    "This *notebook* contains my solution to **Programming Assignment 4**\n",
    "\n",
    "- Problem 1: swap the first and last elements in a list\n",
    "- Problem 2: exchange every even number in a list with '1' and every odd with '-1'\n",
    "- Problem 3: take a tuple with 3 elements, and rotate the elements"
   ]
  },
  {
   "cell_type": "code",
   "execution_count": 126,
   "metadata": {},
   "outputs": [
    {
     "data": {
      "text/plain": [
       "[21, 13, 47, 96, 72, 14, 60, 35, 41, 63]"
      ]
     },
     "execution_count": 126,
     "metadata": {},
     "output_type": "execute_result"
    }
   ],
   "source": [
    "#creating a random list to use (Parts 1,2)\n",
    "import random\n",
    "listA = []\n",
    "for item in range(10):\n",
    "    listA += [random.randrange(1,100)]\n",
    "listA"
   ]
  },
  {
   "cell_type": "code",
   "execution_count": 127,
   "metadata": {},
   "outputs": [],
   "source": [
    "#example tuple for part 3\n",
    "tupleA = 'John', 'Kennedy', 41,"
   ]
  },
  {
   "cell_type": "code",
   "execution_count": 128,
   "metadata": {},
   "outputs": [
    {
     "data": {
      "text/plain": [
       "[63, 13, 47, 96, 72, 14, 60, 35, 41, 21]"
      ]
     },
     "execution_count": 128,
     "metadata": {},
     "output_type": "execute_result"
    }
   ],
   "source": [
    "#Part 1\n",
    "def swap_first_last(list1):\n",
    "    \"\"\"return a copy of a list with the first and last elements switched\"\"\"\n",
    "    local_list = list1.copy()\n",
    "    first_dig = local_list[0]\n",
    "    last_dig = local_list[-1]\n",
    "    local_list[0] = last_dig\n",
    "    local_list[-1] = first_dig\n",
    "    return local_list\n",
    "\n",
    "swap_first_last(listA)"
   ]
  },
  {
   "cell_type": "code",
   "execution_count": 129,
   "metadata": {},
   "outputs": [
    {
     "data": {
      "text/plain": [
       "[-1, -1, -1, 1, 1, 1, 1, -1, -1, -1]"
      ]
     },
     "execution_count": 129,
     "metadata": {},
     "output_type": "execute_result"
    }
   ],
   "source": [
    "#Part 2\n",
    "def encode(list1):\n",
    "    \"\"\"return a copy of a list with all even numbers replaced by 1 and all odd \n",
    "    numbers replaced by -1\"\"\"\n",
    "    local_list = list1.copy()\n",
    "    for i in range(len(local_list)):\n",
    "        if local_list[i] % 2 == 0:\n",
    "            local_list[i] = 1\n",
    "        else:\n",
    "            local_list[i] = -1\n",
    "    return local_list\n",
    "\n",
    "encode(listA)"
   ]
  },
  {
   "cell_type": "code",
   "execution_count": 130,
   "metadata": {},
   "outputs": [
    {
     "data": {
      "text/plain": [
       "(41, 'John', 'Kennedy')"
      ]
     },
     "execution_count": 130,
     "metadata": {},
     "output_type": "execute_result"
    }
   ],
   "source": [
    "#Part3\n",
    "def rotate(tuple1):\n",
    "    \"\"\"Take a 3 element tuple and rotate its elements(abc) -> (cab)\"\"\"\n",
    "    a, b, c = tuple1\n",
    "    return(c, a, b)\n",
    "\n",
    "rotate(tupleA)"
   ]
  },
  {
   "cell_type": "code",
   "execution_count": null,
   "metadata": {},
   "outputs": [],
   "source": []
  }
 ],
 "metadata": {
  "kernelspec": {
   "display_name": "Python 3",
   "language": "python",
   "name": "python3"
  },
  "language_info": {
   "codemirror_mode": {
    "name": "ipython",
    "version": 3
   },
   "file_extension": ".py",
   "mimetype": "text/x-python",
   "name": "python",
   "nbconvert_exporter": "python",
   "pygments_lexer": "ipython3",
   "version": "3.8.3"
  }
 },
 "nbformat": 4,
 "nbformat_minor": 4
}
